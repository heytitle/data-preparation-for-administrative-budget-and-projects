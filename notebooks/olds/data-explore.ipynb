{
 "cells": [
  {
   "cell_type": "code",
   "execution_count": 1,
   "metadata": {},
   "outputs": [],
   "source": [
    "import pandas as pd\n",
    "from pyquery import PyQuery as pq"
   ]
  },
  {
   "cell_type": "code",
   "execution_count": 6,
   "metadata": {},
   "outputs": [],
   "source": [
    "filepath = \"../outputs/outputs/budgets/2018/4899.html\""
   ]
  },
  {
   "cell_type": "code",
   "execution_count": 10,
   "metadata": {},
   "outputs": [],
   "source": [
    "with open(filepath, \"r\") as f:\n",
    "    txt = f.readlines()\n",
    "    txt = \"\".join(txt).strip()"
   ]
  },
  {
   "cell_type": "code",
   "execution_count": 69,
   "metadata": {},
   "outputs": [],
   "source": [
    "def parse_contant(txt):\n",
    "    d = pq(txt)\n",
    "    data = dict()\n",
    "    data['name'] = d(\"td:contains(ชื่อองค์กร)\").next().text()\n",
    "    data['budget'] = float(d(\"td:contains(จำนวนงบประมาณของโครงการที่ได้รับ)\").next().text().replace(\",\", \"\"))\n",
    "    data['type'] = d(\"td:contains(ประเภทองค์กร)\").next().text()\n",
    "    data['size'] = d(d(\"td:contains(ขนาด)\")[0]).next().text()\n",
    "    data['amphur'] = d(\"td:contains(อำเภอ)\").next().text()\n",
    "    data['province'] = d(\"td:contains(จังหวัด)\").next().text()\n",
    "    data['area'] = float(d(\"td:contains(เขตการปกครองมีพื้)\").next().text().replace(\",\", \"\"))\n",
    "    return data"
   ]
  },
  {
   "cell_type": "code",
   "execution_count": 70,
   "metadata": {},
   "outputs": [
    {
     "data": {
      "text/plain": [
       "{'name': 'เทศบาลตำบลยอด',\n",
       " 'budget': 14516903.2,\n",
       " 'type': 'เทศบาลตำบล',\n",
       " 'size': 'กลาง',\n",
       " 'amphur': 'สองแคว',\n",
       " 'province': 'น่าน',\n",
       " 'area': 105.2}"
      ]
     },
     "execution_count": 70,
     "metadata": {},
     "output_type": "execute_result"
    }
   ],
   "source": [
    "parse_contant(txt)"
   ]
  },
  {
   "cell_type": "code",
   "execution_count": 71,
   "metadata": {},
   "outputs": [],
   "source": [
    "import re"
   ]
  },
  {
   "cell_type": "code",
   "execution_count": 77,
   "metadata": {},
   "outputs": [],
   "source": [
    "fid_rx = re.compile(r\".+\\/(\\d+).html\")"
   ]
  },
  {
   "cell_type": "code",
   "execution_count": 79,
   "metadata": {},
   "outputs": [
    {
     "data": {
      "text/plain": [
       "'1375'"
      ]
     },
     "execution_count": 79,
     "metadata": {},
     "output_type": "execute_result"
    }
   ],
   "source": [
    "fid_rx.match(\"./outputs/budgets/2015/1375.html\")[1]"
   ]
  },
  {
   "cell_type": "code",
   "execution_count": null,
   "metadata": {},
   "outputs": [],
   "source": []
  }
 ],
 "metadata": {
  "kernelspec": {
   "display_name": "jourd",
   "language": "python",
   "name": "jourd"
  },
  "language_info": {
   "codemirror_mode": {
    "name": "ipython",
    "version": 3
   },
   "file_extension": ".py",
   "mimetype": "text/x-python",
   "name": "python",
   "nbconvert_exporter": "python",
   "pygments_lexer": "ipython3",
   "version": "3.7.2"
  },
  "toc": {
   "nav_menu": {},
   "number_sections": true,
   "sideBar": true,
   "skip_h1_title": false,
   "toc_cell": false,
   "toc_position": {},
   "toc_section_display": "block",
   "toc_window_display": false
  }
 },
 "nbformat": 4,
 "nbformat_minor": 2
}
