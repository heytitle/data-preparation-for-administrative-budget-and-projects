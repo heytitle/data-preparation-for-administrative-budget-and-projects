{
 "cells": [
  {
   "cell_type": "code",
   "execution_count": 1,
   "metadata": {},
   "outputs": [],
   "source": [
    "import pandas as pd\n",
    "import numpy as np\n",
    "import json"
   ]
  },
  {
   "cell_type": "code",
   "execution_count": 2,
   "metadata": {},
   "outputs": [],
   "source": [
    "output_path = \"/Users/heytitle/projects/jourd-politics/src/data\"\n",
    "\n",
    "def prepend_path(s):\n",
    "    return \"%s/%s\" % (output_path, s)"
   ]
  },
  {
   "cell_type": "code",
   "execution_count": 3,
   "metadata": {},
   "outputs": [
    {
     "name": "stderr",
     "output_type": "stream",
     "text": [
      "/Users/heytitle/projects/jour-d/venv/lib/python3.7/site-packages/IPython/core/interactiveshell.py:3049: DtypeWarning: Columns (22) have mixed types. Specify dtype option on import or set low_memory=False.\n",
      "  interactivity=interactivity, compiler=compiler, result=result)\n"
     ]
    }
   ],
   "source": [
    "df_projects = pd.read_csv(\"../data/2019-local-administrative-organization-projects.csv\")"
   ]
  },
  {
   "cell_type": "code",
   "execution_count": 4,
   "metadata": {},
   "outputs": [
    {
     "data": {
      "text/plain": [
       "1085388"
      ]
     },
     "execution_count": 4,
     "metadata": {},
     "output_type": "execute_result"
    }
   ],
   "source": [
    "len(df_projects)"
   ]
  },
  {
   "cell_type": "markdown",
   "metadata": {},
   "source": [
    "# Global Statistics"
   ]
  },
  {
   "cell_type": "code",
   "execution_count": 5,
   "metadata": {},
   "outputs": [],
   "source": [
    "global_stats = dict(\n",
    "    totalProjects = len(df_projects), \n",
    "    sumProjectValue = df_projects.sum_price_agree.sum()\n",
    ")\n",
    "\n"
   ]
  },
  {
   "cell_type": "code",
   "execution_count": 6,
   "metadata": {},
   "outputs": [
    {
     "name": "stdout",
     "output_type": "stream",
     "text": [
      "{'totalProjects': 1085388, 'sumProjectValue': 112169484402.0, 'totalCivilProjects': 151917, 'sumCivilProjectValue': 49962973805.0}\n"
     ]
    }
   ],
   "source": [
    "def is_civil_proj(x):\n",
    "    include_key_words = ['ลูกรัง','ลาดยาง','สร้างถนน','ซ่อมแซมถนน','ซ่อมผิวจราจร','ท่อระบายน้ำ','หินคลุก','คสล',\\\n",
    "                 'คอนกรีตเสริมเหล็ก','ซ่อมแซมถนน','แอสฟัล','ประปา','บาดาล','บาดาล','สะพาน','ตลิ่ง']\n",
    "    \n",
    "    bool_result = False\n",
    "    \n",
    "    for a_key_word in include_key_words:\n",
    "        bool_result |= (a_key_word in x)\n",
    "\n",
    "    return bool_result\n",
    "\n",
    "df_civil_projects = df_projects[df_projects.project_name.apply(is_civil_proj)]\n",
    "\n",
    "global_stats['totalCivilProjects'] = len(df_civil_projects)\n",
    "global_stats['sumCivilProjectValue'] = df_civil_projects.sum_price_agree.sum()\n",
    "\n",
    "print(global_stats)"
   ]
  },
  {
   "cell_type": "code",
   "execution_count": 7,
   "metadata": {},
   "outputs": [],
   "source": [
    "with open(prepend_path(\"global_stats.json\"), \"w\") as fh:\n",
    "    json.dump(global_stats, fh)"
   ]
  },
  {
   "cell_type": "markdown",
   "metadata": {},
   "source": [
    "# Procurement Method Statistics"
   ]
  },
  {
   "cell_type": "code",
   "execution_count": 8,
   "metadata": {},
   "outputs": [],
   "source": [
    "df_proc_med_stats = df_projects.groupby(\"purchase_method_name\")[\"sum_price_agree\"]\n",
    "\n",
    "\n",
    "df_proc_med_stats_merged = df_proc_med_stats.count().reset_index().rename(columns={'sum_price_agree':'totalProjects'})\\\n",
    "    .merge(df_proc_med_stats.sum().reset_index().rename(columns={'sum_price_agree':'totalProjectValue'}), on=\"purchase_method_name\")\n",
    "\n",
    "\n",
    "with open(prepend_path(\"procurement_methods_stats.json\"), \"w\") as fh:\n",
    "    json.dump(df_proc_med_stats_merged.to_dict(\"record\"), fh, ensure_ascii=False)"
   ]
  },
  {
   "cell_type": "code",
   "execution_count": 9,
   "metadata": {},
   "outputs": [
    {
     "data": {
      "text/html": [
       "<div>\n",
       "<style scoped>\n",
       "    .dataframe tbody tr th:only-of-type {\n",
       "        vertical-align: middle;\n",
       "    }\n",
       "\n",
       "    .dataframe tbody tr th {\n",
       "        vertical-align: top;\n",
       "    }\n",
       "\n",
       "    .dataframe thead th {\n",
       "        text-align: right;\n",
       "    }\n",
       "</style>\n",
       "<table border=\"1\" class=\"dataframe\">\n",
       "  <thead>\n",
       "    <tr style=\"text-align: right;\">\n",
       "      <th></th>\n",
       "      <th>purchase_method_name</th>\n",
       "      <th>sum_price_agree</th>\n",
       "    </tr>\n",
       "  </thead>\n",
       "  <tbody>\n",
       "    <tr>\n",
       "      <th>0</th>\n",
       "      <td>กรณีพิเศษ</td>\n",
       "      <td>48</td>\n",
       "    </tr>\n",
       "    <tr>\n",
       "      <th>1</th>\n",
       "      <td>คัดเลือก</td>\n",
       "      <td>2514</td>\n",
       "    </tr>\n",
       "    <tr>\n",
       "      <th>2</th>\n",
       "      <td>จ้างที่ปรึกษาโดยวิธีคัดเลือก</td>\n",
       "      <td>8</td>\n",
       "    </tr>\n",
       "    <tr>\n",
       "      <th>3</th>\n",
       "      <td>จ้างที่ปรึกษาโดยวิธีตกลง</td>\n",
       "      <td>1</td>\n",
       "    </tr>\n",
       "    <tr>\n",
       "      <th>4</th>\n",
       "      <td>จ้างที่ปรึกษาโดยวิธีประกาศเชิญชวนทั่วไป</td>\n",
       "      <td>5</td>\n",
       "    </tr>\n",
       "    <tr>\n",
       "      <th>5</th>\n",
       "      <td>จ้างที่ปรึกษาโดยวิธีเฉพาะเจาะจง</td>\n",
       "      <td>231</td>\n",
       "    </tr>\n",
       "    <tr>\n",
       "      <th>6</th>\n",
       "      <td>ตกลงราคา</td>\n",
       "      <td>1394</td>\n",
       "    </tr>\n",
       "    <tr>\n",
       "      <th>7</th>\n",
       "      <td>ตลาดอิเล็กทรอนิกส์ (e-market)</td>\n",
       "      <td>28</td>\n",
       "    </tr>\n",
       "    <tr>\n",
       "      <th>8</th>\n",
       "      <td>ประกวดราคา</td>\n",
       "      <td>2</td>\n",
       "    </tr>\n",
       "    <tr>\n",
       "      <th>9</th>\n",
       "      <td>ประกวดราคาด้วยวิธีการทางอิเล็กทรอนิกส์</td>\n",
       "      <td>743</td>\n",
       "    </tr>\n",
       "    <tr>\n",
       "      <th>10</th>\n",
       "      <td>ประกวดราคาอิเล็กทรอนิกส์ (e-bidding)</td>\n",
       "      <td>20800</td>\n",
       "    </tr>\n",
       "    <tr>\n",
       "      <th>11</th>\n",
       "      <td>พิเศษ</td>\n",
       "      <td>231</td>\n",
       "    </tr>\n",
       "    <tr>\n",
       "      <th>12</th>\n",
       "      <td>สอบราคา</td>\n",
       "      <td>1653</td>\n",
       "    </tr>\n",
       "    <tr>\n",
       "      <th>13</th>\n",
       "      <td>เฉพาะเจาะจง</td>\n",
       "      <td>1057730</td>\n",
       "    </tr>\n",
       "  </tbody>\n",
       "</table>\n",
       "</div>"
      ],
      "text/plain": [
       "                       purchase_method_name  sum_price_agree\n",
       "0                                 กรณีพิเศษ               48\n",
       "1                                  คัดเลือก             2514\n",
       "2              จ้างที่ปรึกษาโดยวิธีคัดเลือก                8\n",
       "3                  จ้างที่ปรึกษาโดยวิธีตกลง                1\n",
       "4   จ้างที่ปรึกษาโดยวิธีประกาศเชิญชวนทั่วไป                5\n",
       "5           จ้างที่ปรึกษาโดยวิธีเฉพาะเจาะจง              231\n",
       "6                                  ตกลงราคา             1394\n",
       "7             ตลาดอิเล็กทรอนิกส์ (e-market)               28\n",
       "8                                ประกวดราคา                2\n",
       "9    ประกวดราคาด้วยวิธีการทางอิเล็กทรอนิกส์              743\n",
       "10     ประกวดราคาอิเล็กทรอนิกส์ (e-bidding)            20800\n",
       "11                                    พิเศษ              231\n",
       "12                                  สอบราคา             1653\n",
       "13                              เฉพาะเจาะจง          1057730"
      ]
     },
     "execution_count": 9,
     "metadata": {},
     "output_type": "execute_result"
    }
   ],
   "source": [
    "df_proc_med_stats.count().reset_index()"
   ]
  },
  {
   "cell_type": "markdown",
   "metadata": {},
   "source": [
    "# Authority Statistics"
   ]
  },
  {
   "cell_type": "code",
   "execution_count": 10,
   "metadata": {},
   "outputs": [],
   "source": [
    "df_local_author_raw = df_projects\n",
    "df_local_author_stats = df_local_author_raw.groupby([\"dept_name\", \"province\"])[\"sum_price_agree\"]\n",
    "\n",
    "df_local_author_stats.count().reset_index().rename(columns={'sum_price_agree':'totalProjects'})\n",
    "\n",
    "\n",
    "df_local_author_stats = df_local_author_stats.count().reset_index().rename(columns={'sum_price_agree':'totalProjects'})\\\n",
    "    .merge(df_local_author_stats.sum().reset_index().rename(columns={'sum_price_agree':'totalProjectValue'}), on=['dept_name', 'province'])\n",
    "\n",
    "df_local_author_stats[:10]\n",
    "\n",
    "\n",
    "local_author_stats_data = dict()\n",
    "\n",
    "for r in df_local_author_stats.to_dict(\"record\"):\n",
    "    r['methodStats'] = dict()\n",
    "    local_author_stats_data['%s-%s' % (r['dept_name'], r['province'])] = r"
   ]
  },
  {
   "cell_type": "code",
   "execution_count": 11,
   "metadata": {},
   "outputs": [],
   "source": [
    "df_local_author_method_stats = df_local_author_raw.groupby([\"dept_name\", \"province\", \"purchase_method_name\"])[\"sum_price_agree\"]\n",
    "\n",
    "df_local_author_method_stats_merged = df_local_author_method_stats.count().reset_index().rename(columns={'sum_price_agree':'totalProjects'}) \\\n",
    "    .merge(df_local_author_method_stats.sum().reset_index().rename(columns={'sum_price_agree':'totalProjectValue'}), on=['dept_name', 'province', 'purchase_method_name'])\n",
    "\n",
    "for r in df_local_author_method_stats_merged.to_dict(\"record\"):\n",
    "    key = '%s-%s' % (r['dept_name'], r['province'])\n",
    "    local_author_stats_data[key]['methodStats'][r['purchase_method_name']] = dict(\n",
    "        count=r['totalProjects'], value=r['totalProjectValue']\n",
    "    )\n",
    "    if r['purchase_method_name'] == \"เฉพาะเจาะจง\":\n",
    "        local_author_stats_data[key]['specialProcurementCount'] = r['totalProjects']\n",
    "    else: \n",
    "        local_author_stats_data[key]['specialProcurementCount'] = 0"
   ]
  },
  {
   "cell_type": "code",
   "execution_count": 12,
   "metadata": {},
   "outputs": [],
   "source": [
    "with open(prepend_path(\"local_authority_stats.json\"), \"w\") as fh:\n",
    "    sorted_local_author_stats_data =  sorted(local_author_stats_data.values(), key = lambda x: -x['specialProcurementCount'])\n",
    "    \n",
    "    json.dump(sorted_local_author_stats_data[:100], fh, ensure_ascii=False)"
   ]
  },
  {
   "cell_type": "markdown",
   "metadata": {},
   "source": [
    "# Company Statistics"
   ]
  },
  {
   "cell_type": "code",
   "execution_count": 32,
   "metadata": {},
   "outputs": [],
   "source": [
    "thresdhold = 1e8"
   ]
  },
  {
   "cell_type": "code",
   "execution_count": 33,
   "metadata": {},
   "outputs": [],
   "source": [
    "filter_names = [\n",
    "#     \"สหกรณ์โคนมวังน้ำเย็น จำกัด\"\n",
    "    \"something\"\n",
    "]\n",
    "\n",
    "df_projects_have_comp = df_projects[~df_projects.corporate_name.isna()]\n",
    "df_projects_have_comp = df_projects_have_comp[~df_projects_have_comp.corporate_name.str.contains(\"|\".join(filter_names))]"
   ]
  },
  {
   "cell_type": "code",
   "execution_count": 34,
   "metadata": {},
   "outputs": [],
   "source": [
    "df_company_stats = df_projects_have_comp.groupby([\"corporate_name\"])[\"sum_price_agree\"]\n",
    "\n",
    "df_company_stats_merged = df_company_stats.count().reset_index().rename(columns={'sum_price_agree':'totalProjects'}) \\\n",
    "    .merge(df_company_stats.sum().reset_index().rename(columns={'sum_price_agree':'totalProjectValue'}), on=['corporate_name'])\n"
   ]
  },
  {
   "cell_type": "code",
   "execution_count": 35,
   "metadata": {},
   "outputs": [],
   "source": [
    "df_company_stats_selected = df_company_stats_merged[df_company_stats_merged.totalProjectValue > thresdhold]"
   ]
  },
  {
   "cell_type": "code",
   "execution_count": 36,
   "metadata": {},
   "outputs": [
    {
     "data": {
      "text/plain": [
       "54"
      ]
     },
     "execution_count": 36,
     "metadata": {},
     "output_type": "execute_result"
    }
   ],
   "source": [
    "len(df_company_stats_selected)"
   ]
  },
  {
   "cell_type": "code",
   "execution_count": 18,
   "metadata": {},
   "outputs": [],
   "source": [
    "company_stats_data = dict()\n",
    "\n",
    "for r in df_company_stats_selected.to_dict(\"record\"):\n",
    "    r['methodStats'] = dict()\n",
    "    r['regionCounts'] = []\n",
    "    r['projectInsights'] = []\n",
    "    company_stats_data[r['corporate_name']] = r"
   ]
  },
  {
   "cell_type": "code",
   "execution_count": 19,
   "metadata": {},
   "outputs": [],
   "source": [
    "df_project_join_selected_company = df_projects.merge(df_company_stats_selected, on=['corporate_name'], how=\"left\")\n",
    "df_project_join_selected_company = df_project_join_selected_company[df_project_join_selected_company.totalProjects > 0]"
   ]
  },
  {
   "cell_type": "code",
   "execution_count": null,
   "metadata": {},
   "outputs": [],
   "source": []
  },
  {
   "cell_type": "code",
   "execution_count": 20,
   "metadata": {},
   "outputs": [],
   "source": [
    "df_company_method_stats = df_project_join_selected_company.groupby([\"corporate_name\", \"purchase_method_name\"])[\"sum_price_agree\"]\n",
    "\n",
    "df_company_method_stats_merged = df_company_method_stats.count().reset_index().rename(columns={'sum_price_agree':'totalProjects'}) \\\n",
    "    .merge(df_company_method_stats.sum().reset_index().rename(columns={'sum_price_agree':'totalProjectValue'}), on=['corporate_name', 'purchase_method_name'])\n",
    "\n",
    "for r in df_company_method_stats_merged.to_dict(\"record\"):\n",
    "    key = r['corporate_name']\n",
    "    \n",
    "    company_stats_data[key]['methodStats'][r['purchase_method_name']] = dict(\n",
    "        count=r['totalProjects'], value=r['totalProjectValue']\n",
    "    )"
   ]
  },
  {
   "cell_type": "code",
   "execution_count": 21,
   "metadata": {},
   "outputs": [],
   "source": [
    "df_company_region_stats = df_project_join_selected_company.groupby([\"corporate_name\", \"region\"])[\"sum_price_agree\"]\n",
    "\n",
    "df_company_region_stats_flattened = df_company_region_stats.count().reset_index().rename(columns={'sum_price_agree': 'count'})\n",
    "\n",
    "for r in df_company_region_stats_flattened.to_dict(\"record\"):\n",
    "    company_stats_data[r['corporate_name']]['regionCounts'].append(dict(name=r['region'], count=r['count']))\n",
    "    "
   ]
  },
  {
   "cell_type": "code",
   "execution_count": 22,
   "metadata": {},
   "outputs": [],
   "source": [
    "df_tins = df_project_join_selected_company[['corporate_name', 'winner_tin']].drop_duplicates()\n",
    "\n",
    "name_to_tins = dict(zip(df_tins['corporate_name'].values, df_tins['winner_tin'].values))"
   ]
  },
  {
   "cell_type": "code",
   "execution_count": 23,
   "metadata": {},
   "outputs": [],
   "source": [
    "df_company_project_insight = df_project_join_selected_company.groupby([\"corporate_name\", \"province\", \"purchase_method_name\"])[\"sum_price_agree\"]\n",
    "\n",
    "df_company_project_insight_flattened = df_company_project_insight.sum().reset_index().rename(columns={'sum_price_agree': 'value'})\n",
    "\n",
    "for r in df_company_project_insight_flattened.to_dict(\"record\"):\n",
    "    company_stats_data[r['corporate_name']]['projectInsights'].append(\n",
    "        dict(source=r['purchase_method_name'], target=r['province'], value=r['value'])\n",
    "    )"
   ]
  },
  {
   "cell_type": "code",
   "execution_count": 24,
   "metadata": {},
   "outputs": [],
   "source": [
    "with open(prepend_path(\"company_stats.json\"), \"w\") as fh:\n",
    "    data = []\n",
    "    \n",
    "    for d in company_stats_data.values():\n",
    "        primaryRegion = sorted(d['regionCounts'], key=lambda x: x['count'])[-1]['name']\n",
    "        d['primaryRegion'] = primaryRegion\n",
    "        d['tin'] = name_to_tins[d['corporate_name']]\n",
    "        \n",
    "        data.append(d)\n",
    "    json.dump(data, fh, ensure_ascii=False)"
   ]
  },
  {
   "cell_type": "code",
   "execution_count": 25,
   "metadata": {},
   "outputs": [
    {
     "data": {
      "text/plain": [
       "923"
      ]
     },
     "execution_count": 25,
     "metadata": {},
     "output_type": "execute_result"
    }
   ],
   "source": [
    "len(df_company_project_insight)"
   ]
  },
  {
   "cell_type": "code",
   "execution_count": null,
   "metadata": {},
   "outputs": [],
   "source": []
  },
  {
   "cell_type": "code",
   "execution_count": null,
   "metadata": {},
   "outputs": [],
   "source": []
  },
  {
   "cell_type": "code",
   "execution_count": null,
   "metadata": {},
   "outputs": [],
   "source": []
  }
 ],
 "metadata": {
  "kernelspec": {
   "display_name": "jourd",
   "language": "python",
   "name": "jourd"
  },
  "language_info": {
   "codemirror_mode": {
    "name": "ipython",
    "version": 3
   },
   "file_extension": ".py",
   "mimetype": "text/x-python",
   "name": "python",
   "nbconvert_exporter": "python",
   "pygments_lexer": "ipython3",
   "version": "3.7.3"
  },
  "toc": {
   "nav_menu": {},
   "number_sections": true,
   "sideBar": true,
   "skip_h1_title": false,
   "toc_cell": false,
   "toc_position": {},
   "toc_section_display": "block",
   "toc_window_display": false
  }
 },
 "nbformat": 4,
 "nbformat_minor": 2
}
