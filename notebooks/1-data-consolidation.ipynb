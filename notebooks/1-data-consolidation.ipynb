{
 "cells": [
  {
   "cell_type": "code",
   "execution_count": 9,
   "metadata": {},
   "outputs": [],
   "source": [
    "import glob\n",
    "import json\n",
    "import pandas as pd"
   ]
  },
  {
   "cell_type": "code",
   "execution_count": 6,
   "metadata": {},
   "outputs": [],
   "source": [
    "files = glob.glob(\"../gov-projects/*\")"
   ]
  },
  {
   "cell_type": "code",
   "execution_count": 7,
   "metadata": {},
   "outputs": [
    {
     "data": {
      "text/plain": [
       "'we have 4417 files'"
      ]
     },
     "execution_count": 7,
     "metadata": {},
     "output_type": "execute_result"
    }
   ],
   "source": [
    "\"we have %s files\" % len(files)"
   ]
  },
  {
   "cell_type": "markdown",
   "metadata": {},
   "source": [
    "# Extract projects from files"
   ]
  },
  {
   "cell_type": "code",
   "execution_count": 19,
   "metadata": {},
   "outputs": [
    {
     "data": {
      "text/plain": [
       "[{'project_id': '60117012732',\n",
       "  'project_name': 'ซื้ออาหารเสริม (นม) โครงการ จำนวน 4 แห่ง ศูนย์พัฒนาเด็กเล็ก จำนวน 3 แห่ง โดยวิธีเฉพาะเจาะจง',\n",
       "  'project_type_name': 'ซื้อ',\n",
       "  'dept_name': 'องค์การบริหารส่วนตำบลโนนสว่าง',\n",
       "  'dept_sub_name': 'องค์การบริหารส่วนตำบลโนนสว่าง',\n",
       "  'purchase_method_name': 'เฉพาะเจาะจง',\n",
       "  'announce_date': '-',\n",
       "  'project_money': '332,323',\n",
       "  'price_build': '332,323',\n",
       "  'sum_price_agree': '332,323',\n",
       "  'budget_year': '2561',\n",
       "  'transaction_date': '8 พ.ย. 60',\n",
       "  'province': 'ร้อยเอ็ด',\n",
       "  'district': 'เมืองร้อยเอ็ด',\n",
       "  'subdistrict': 'ในเมือง',\n",
       "  'project_status': 'ระหว่างดำเนินการ',\n",
       "  'winner_tin': '0455535000091',\n",
       "  'corporate_name': 'บริษัท  ทุ่งกุลาแดรี่ฟูดส์  จำกัด',\n",
       "  'price_agree': '332,323',\n",
       "  'contract_no': '8/2561',\n",
       "  'contract_date': '8 พ.ย. 60',\n",
       "  'contract_finish_date': '16 มี.ค. 61',\n",
       "  'contract_status': 'ระหว่างดำเนินการ'}]"
      ]
     },
     "execution_count": 19,
     "metadata": {},
     "output_type": "execute_result"
    }
   ],
   "source": [
    "def extract_projects(file):\n",
    "    with open(file, \"r\") as fh:\n",
    "        data = json.load(fh)\n",
    "    \n",
    "    projects = []\n",
    "    for r in data:\n",
    "        contract = r['contract'][0]\n",
    "        del r['contract']\n",
    "\n",
    "        p = dict(**r, **contract)\n",
    "        projects.append(p)\n",
    "    return projects\n",
    "\n",
    "extract_projects(files[0])[:1]"
   ]
  },
  {
   "cell_type": "code",
   "execution_count": 20,
   "metadata": {},
   "outputs": [],
   "source": [
    "all_projects = []\n",
    "    \n",
    "for file in files:\n",
    "    all_projects.extend(extract_projects(file))\n",
    "    \n",
    "df_projects = pd.DataFrame(all_projects)"
   ]
  },
  {
   "cell_type": "code",
   "execution_count": 21,
   "metadata": {},
   "outputs": [
    {
     "data": {
      "text/plain": [
       "'we have 790307 projects'"
      ]
     },
     "execution_count": 21,
     "metadata": {},
     "output_type": "execute_result"
    }
   ],
   "source": [
    "\"we have %d projects\" % len(df_projects)"
   ]
  },
  {
   "cell_type": "code",
   "execution_count": 42,
   "metadata": {},
   "outputs": [],
   "source": [
    "def convert_value_to_int(v):\n",
    "    v = v.replace(\",\", \"\").replace(\"-\", \"\")\n",
    "    if v:\n",
    "        return float(v)\n",
    "    else:\n",
    "        return 0\n",
    "\n",
    "df_projects['sum_price_agree'] = df_projects['sum_price_agree'].apply(convert_value_to_int)"
   ]
  },
  {
   "cell_type": "code",
   "execution_count": 43,
   "metadata": {},
   "outputs": [],
   "source": [
    "for c in ['price_build', 'project_money', 'price_agree']:\n",
    "    df_projects[c] = df_projects[c].apply(convert_value_to_int)"
   ]
  },
  {
   "cell_type": "markdown",
   "metadata": {},
   "source": [
    "# Merge with region\n"
   ]
  },
  {
   "cell_type": "code",
   "execution_count": null,
   "metadata": {},
   "outputs": [],
   "source": [
    "df_province_region = pd.read_csv(\"../data/province-region.csv\")\n",
    "\n",
    "df_merged = df_projects.merge(df_province_region, on=\"province\")\n",
    "\n",
    "df_merged.to_csv(\"../data/2019-local-administrative-organization-projects.csv\", index=False)"
   ]
  },
  {
   "cell_type": "code",
   "execution_count": null,
   "metadata": {},
   "outputs": [],
   "source": []
  }
 ],
 "metadata": {
  "kernelspec": {
   "display_name": "jourd",
   "language": "python",
   "name": "jourd"
  },
  "language_info": {
   "codemirror_mode": {
    "name": "ipython",
    "version": 3
   },
   "file_extension": ".py",
   "mimetype": "text/x-python",
   "name": "python",
   "nbconvert_exporter": "python",
   "pygments_lexer": "ipython3",
   "version": "3.7.3"
  },
  "toc": {
   "nav_menu": {},
   "number_sections": true,
   "sideBar": true,
   "skip_h1_title": false,
   "toc_cell": false,
   "toc_position": {},
   "toc_section_display": "block",
   "toc_window_display": true
  }
 },
 "nbformat": 4,
 "nbformat_minor": 2
}
