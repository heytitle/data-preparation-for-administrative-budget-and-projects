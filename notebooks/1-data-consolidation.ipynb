{
 "cells": [
  {
   "cell_type": "code",
   "execution_count": 4,
   "metadata": {},
   "outputs": [],
   "source": [
    "import glob\n",
    "import json\n",
    "import pandas as pd"
   ]
  },
  {
   "cell_type": "code",
   "execution_count": 5,
   "metadata": {},
   "outputs": [],
   "source": [
    "files = glob.glob(\"../gov-projects/*\")"
   ]
  },
  {
   "cell_type": "code",
   "execution_count": 6,
   "metadata": {},
   "outputs": [
    {
     "data": {
      "text/plain": [
       "'we have 6638 files'"
      ]
     },
     "execution_count": 6,
     "metadata": {},
     "output_type": "execute_result"
    }
   ],
   "source": [
    "\"we have %s files\" % len(files)"
   ]
  },
  {
   "cell_type": "markdown",
   "metadata": {},
   "source": [
    "# Extract projects from files"
   ]
  },
  {
   "cell_type": "code",
   "execution_count": 9,
   "metadata": {},
   "outputs": [
    {
     "data": {
      "text/plain": [
       "[{'project_id': '60127147879',\n",
       "  'project_name': 'ประกวดราคาจ้างก่อสร้างก่อสร้างถนนลาดยางผิวจราจร Cape Seal รหัสทางหลวงท้องถิ่น สท.ถ. 25-001 สายจิกเอน หมู่ที่ 8 บ้านวังไผ่สูง ตำบลไกรนอก กว้าง 6 เมตร ยาว 4,000 เมตร องค์การบริหารส่วนตำบลไกรนอก อำเภอกงไกรลาศ จังหวัดสุโขทัย ด้วยวิธีประกวดราคาอิเล็กทรอนิกส์ (e-bidding)',\n",
       "  'project_type_name': 'จ้างก่อสร้าง',\n",
       "  'dept_name': 'องค์การบริหารส่วนตำบลไกรนอก',\n",
       "  'dept_sub_name': 'องค์การบริหารส่วนตำบลไกรนอก',\n",
       "  'purchase_method_name': 'ประกวดราคาอิเล็กทรอนิกส์ (e-bidding)',\n",
       "  'announce_date': '3 ม.ค. 61',\n",
       "  'project_money': '7,546,000',\n",
       "  'price_build': '8,708,000',\n",
       "  'sum_price_agree': '7,510,000',\n",
       "  'budget_year': '2561',\n",
       "  'transaction_date': '21 ก.พ. 61',\n",
       "  'province': 'สุโขทัย',\n",
       "  'district': 'เมืองสุโขทัย',\n",
       "  'subdistrict': 'ธานี',\n",
       "  'project_status': 'ระหว่างดำเนินการ',\n",
       "  'winner_tin': '0643543000157',\n",
       "  'corporate_name': 'ห้างหุ้นส่วนจำกัด จามิกรวิศวการ',\n",
       "  'price_agree': '7,510,000',\n",
       "  'contract_no': '8/2561',\n",
       "  'contract_date': '21 ก.พ. 61',\n",
       "  'contract_finish_date': '-',\n",
       "  'contract_status': 'ระหว่างดำเนินการ'}]"
      ]
     },
     "execution_count": 9,
     "metadata": {},
     "output_type": "execute_result"
    }
   ],
   "source": [
    "def extract_projects(file):\n",
    "    with open(file, \"r\") as fh:\n",
    "        data = json.load(fh)\n",
    "    \n",
    "    projects = []\n",
    "    for r in data:\n",
    "        contract = r['contract'][0]\n",
    "        del r['contract']\n",
    "\n",
    "        p = dict(**r, **contract)\n",
    "        projects.append(p)\n",
    "    return projects\n",
    "\n",
    "extract_projects(files[0])[:1]"
   ]
  },
  {
   "cell_type": "code",
   "execution_count": 10,
   "metadata": {},
   "outputs": [],
   "source": [
    "all_projects = []\n",
    "    \n",
    "for file in files:\n",
    "    all_projects.extend(extract_projects(file))\n",
    "    \n",
    "df_projects = pd.DataFrame(all_projects)"
   ]
  },
  {
   "cell_type": "code",
   "execution_count": 11,
   "metadata": {},
   "outputs": [
    {
     "data": {
      "text/plain": [
       "'we have 1085388 projects'"
      ]
     },
     "execution_count": 11,
     "metadata": {},
     "output_type": "execute_result"
    }
   ],
   "source": [
    "\"we have %d projects\" % len(df_projects)"
   ]
  },
  {
   "cell_type": "code",
   "execution_count": 12,
   "metadata": {},
   "outputs": [],
   "source": [
    "def convert_value_to_int(v):\n",
    "    v = v.replace(\",\", \"\").replace(\"-\", \"\")\n",
    "    if v:\n",
    "        return float(v)\n",
    "    else:\n",
    "        return 0\n",
    "\n",
    "df_projects['sum_price_agree'] = df_projects['sum_price_agree'].apply(convert_value_to_int)"
   ]
  },
  {
   "cell_type": "code",
   "execution_count": 13,
   "metadata": {},
   "outputs": [],
   "source": [
    "for c in ['price_build', 'project_money', 'price_agree']:\n",
    "    df_projects[c] = df_projects[c].apply(convert_value_to_int)"
   ]
  },
  {
   "cell_type": "markdown",
   "metadata": {},
   "source": [
    "# Merge with region\n"
   ]
  },
  {
   "cell_type": "code",
   "execution_count": 14,
   "metadata": {},
   "outputs": [],
   "source": [
    "df_province_region = pd.read_csv(\"../data/province-region.csv\")\n",
    "\n",
    "df_merged = df_projects.merge(df_province_region, on=\"province\")\n",
    "\n",
    "df_merged.to_csv(\"../data/2019-local-administrative-organization-projects.csv\", index=False)"
   ]
  },
  {
   "cell_type": "code",
   "execution_count": null,
   "metadata": {},
   "outputs": [],
   "source": []
  }
 ],
 "metadata": {
  "kernelspec": {
   "display_name": "jourd",
   "language": "python",
   "name": "jourd"
  },
  "language_info": {
   "codemirror_mode": {
    "name": "ipython",
    "version": 3
   },
   "file_extension": ".py",
   "mimetype": "text/x-python",
   "name": "python",
   "nbconvert_exporter": "python",
   "pygments_lexer": "ipython3",
   "version": "3.7.3"
  },
  "toc": {
   "nav_menu": {},
   "number_sections": true,
   "sideBar": true,
   "skip_h1_title": false,
   "toc_cell": false,
   "toc_position": {},
   "toc_section_display": "block",
   "toc_window_display": true
  }
 },
 "nbformat": 4,
 "nbformat_minor": 2
}
